{
  "nbformat": 4,
  "nbformat_minor": 0,
  "metadata": {
    "colab": {
      "provenance": [],
      "authorship_tag": "ABX9TyNL9sGxAhXP03Y/PH4DcU2Y",
      "include_colab_link": true
    },
    "kernelspec": {
      "name": "python3",
      "display_name": "Python 3"
    },
    "language_info": {
      "name": "python"
    }
  },
  "cells": [
    {
      "cell_type": "markdown",
      "metadata": {
        "id": "view-in-github",
        "colab_type": "text"
      },
      "source": [
        "<a href=\"https://colab.research.google.com/github/thiagograsso/WEB/blob/main/TDE_Mundos_Thiago_Grasso.ipynb\" target=\"_parent\"><img src=\"https://colab.research.google.com/assets/colab-badge.svg\" alt=\"Open In Colab\"/></a>"
      ]
    },
    {
      "cell_type": "code",
      "execution_count": null,
      "metadata": {
        "id": "-ncnz7HZ_uav"
      },
      "outputs": [],
      "source": []
    },
    {
      "cell_type": "markdown",
      "source": [
        "*Mundos* \\\\\n",
        "*Grupo: Thiago Grasso - 4 U*\n"
      ],
      "metadata": {
        "id": "PNutIWnJIKnz"
      }
    },
    {
      "cell_type": "markdown",
      "source": [
        "**Mundo: Pedra, Papel e Tesoura** \\\\\n",
        "1. Definindo as preposições: \\\\\n",
        "* Jogador 1, joga Pedra - $P1$\n",
        "* Jogador 1, joga Papel - $P2$\n",
        "* Jogador 1, joga Tesoura - $P3$\n",
        "\n",
        "\n",
        "* Jogador 2, joga Pedra - $Q1$\n",
        "* Jogador 2, joga Papel- $Q2$\n",
        "* Jogador 2, joga Tesoura - $Q3$\n",
        "\n",
        "2. Modelo do jogo:\n",
        "* Empate = $(P1 \\land Q1) \\lor (P2 \\land Q2) \\lor (P3 \\land Q3)$\n",
        "* Vitória do Jogador 1 = $(P1 \\land Q3) \\lor (P2 \\land Q1) \\lor (P3 \\land Q2)$\n",
        "* Vitória do Jogador 2 =  $(P3 \\land Q1) \\lor (P1 \\land Q2) \\lor (P2 \\land Q3)$\n",
        "\n",
        "3. Resultado\n",
        "* $(V1 \\lor V2 \\lor E) $\n",
        "\n",
        "4. Mutualmente exclusivos:\n",
        "* $!(V1 \\land V2)$\n",
        "* $!(V1 \\land E)$\n",
        "* $!(V2 \\land E)$\n",
        "\n",
        "5. Escolhas exclusivas Jogador 1:\n",
        "* $!(P1 \\land P2)$\n",
        "* $!(P1 \\land P3)$\n",
        "* $!(P2 \\land P3)$\n",
        "\n",
        "6. Escolhas exclusivas Jogador 2:\n",
        "* $!(Q1 \\land Q2)$\n",
        "* $!(Q1 \\land Q3)$\n",
        "* $!(Q2 \\land Q3)$\n"
      ],
      "metadata": {
        "id": "L51dv37G_xip"
      }
    },
    {
      "cell_type": "markdown",
      "source": [
        "**Mundo: Família**\n",
        "1. Definindo as preposições:\n",
        "* Pai - $P(x)$\n",
        "* Mãe - $M(x)$\n",
        "* Filho - $S(x)$\n",
        "* Filha - $D(x)$\n",
        "\n",
        "2. Relação de filiação (considerando meios irmãos):\n",
        "* $P1(x,y)$ - onde $x$ é pai de $y$;\n",
        "* $P2(x,y)$ - onde $x$ é pai de $y$, mas de outra mãe;\n",
        "* $M1(x,y)$ - onde $x$ é mãe de $y$;\n",
        "* $M2(x,y)$ - onde $x$ é mãe de $y$, mas de outro pai;\n",
        "\n",
        "3. Modelo da Família:\n",
        "* P(pai) = True\n",
        "* M(mãe) = True\n",
        "\n",
        "\n",
        "* S(Filho1): \"*Filho1 é filho*\"\n",
        "* D(Filha1): \"*Filha1 é filha*\"\n",
        "\n",
        "4. Filho(a)s unicamente do mesmo pai ou mãe:\n",
        "* $S(x) \\land \\lnot S(y)$ - onde $x$ é filho apenas do pai, e $y$ é filho apenas da mãe.\n",
        "* $D(x) \\land \\lnot D(y)$ - onde $x$ é filha apenas do pai, e $y$ é filha apenas da mãe.\n",
        "\n",
        "5. Definição de meios-irmã(s)os: \\\\\n",
        "\n",
        "  5.1. Meio-irmão por parte de pai (mesmo pai, mães diferentes):\n",
        "  * MeioIrmao1 = $P1(Pai,Filho1) \\land M1(Mae1,Filho1) $\n",
        "  * MeioIrmao2 = $P1(Pai,Filho2) \\land M2(Mae2,Filho2) $\n",
        "  * Condição para serem meios-irmãos por parte de pai: $P1(Pai,Filho1) \\land P1(Pai,Filho2) \\land M1(Mae1,Filho1) \\land M2(Mae2,Filho2) $ \\\\\n",
        "\n",
        "  5.2.Meio-irmão por parte de mãe (mesma mãe, pais diferentes):\n",
        "  * MeioIrmao1 = $M1(Mae,Filho1) \\land P1(Pai1,Filho1) $\n",
        "  * MeioIrmao2 = $M1(Mae,Filho2) \\land P2(Pai2,Filho2) $\n",
        "  * Condição para serem meios-irmãos por parte de mãe: $M1(Mae,Filho1) \\land M1(Mae,Filho2) \\land P1(Pai1,Filho1) \\land P2(Pai2,Filho2) $\n",
        "\n",
        "6. Definição de meias-irmãs:  \\\\\n",
        "\n",
        "  6.1. Meia-irmã por parte de pai (mesmo pai, mães diferentes):\n",
        "  * MeiaIrma1 = $P1(Pai,Filha1) \\land M1(Mae1,Filha1) $\n",
        "  * MeiaIrma2 = $P1(Pai,Filha2) \\land M2(Mae2,Filha2) $\n",
        "  * Condição para serem meias-irmãs por parte de pai: $P1(Pai,Filha1) \\land P1(Pai,Filha2) \\land M1(Mae1,Filha1) \\land M2(Mae2,Filha2) $ \\\\\n",
        "\n",
        "  6.2.Meia-irmã por parte de mãe (mesma mãe, pais diferentes):\n",
        "  * MeioIrma1 = $M1(Mae,Filha1) \\land P1(Pai1,Filha1) $\n",
        "  * MeioIrma2 = $M1(Mae,Filha2) \\land P2(Pai2,Filha2) $\n",
        "  * Condição para serem meias-irmãs por parte de mãe: $M1(Mae,Filha1) \\land M1(Mae,Filha2) \\land P1(Pai1,Filha1) \\land P2(Pai2,Filha2) $\n",
        "\n",
        "\n",
        "\n"
      ],
      "metadata": {
        "id": "efH92u1oIQao"
      }
    },
    {
      "cell_type": "code",
      "source": [],
      "metadata": {
        "id": "HZaza0tpUrAe"
      },
      "execution_count": null,
      "outputs": []
    }
  ]
}